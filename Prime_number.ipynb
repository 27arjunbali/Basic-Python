{
 "cells": [
  {
   "cell_type": "code",
   "execution_count": 1,
   "metadata": {},
   "outputs": [],
   "source": [
    "import random"
   ]
  },
  {
   "cell_type": "code",
   "execution_count": 3,
   "metadata": {},
   "outputs": [],
   "source": [
    "numbers=[]\n",
    "from random import randint\n",
    "for x in range(0,100):\n",
    "    numbers1 = randint(567,1089)\n",
    "    numbers.append(numbers1)\n",
    "#print(numbers)"
   ]
  },
  {
   "cell_type": "code",
   "execution_count": 4,
   "metadata": {},
   "outputs": [
    {
     "name": "stdout",
     "output_type": "stream",
     "text": [
      "[673, 613, 641, 839, 971, 919, 977, 829, 769, 967, 631, 593, 797, 757, 929, 701, 971]\n"
     ]
    }
   ],
   "source": [
    "prime=[]\n",
    "NotPrime = []\n",
    "for i in range(0,100):\n",
    "    for y in range(2,numbers[i]):\n",
    "        if numbers[i]% y == 0:\n",
    "            NotPrime.append(numbers[i])\n",
    "            #print(\"The number \",numbers[i],\" is not prime\")\n",
    "            break\n",
    "\n",
    "    if y == (numbers[i]-1):\n",
    "        prime.append(numbers[i])\n",
    "\n",
    "    \n",
    "print(prime)"
   ]
  },
  {
   "cell_type": "code",
   "execution_count": null,
   "metadata": {},
   "outputs": [],
   "source": []
  }
 ],
 "metadata": {
  "kernelspec": {
   "display_name": "Python 3",
   "language": "python",
   "name": "python3"
  },
  "language_info": {
   "codemirror_mode": {
    "name": "ipython",
    "version": 3
   },
   "file_extension": ".py",
   "mimetype": "text/x-python",
   "name": "python",
   "nbconvert_exporter": "python",
   "pygments_lexer": "ipython3",
   "version": "3.6.4"
  }
 },
 "nbformat": 4,
 "nbformat_minor": 2
}
